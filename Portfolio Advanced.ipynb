{
 "cells": [
  {
   "cell_type": "markdown",
   "id": "5f363d02",
   "metadata": {},
   "source": [
    "# 1. MV"
   ]
  },
  {
   "cell_type": "code",
   "execution_count": 13,
   "id": "1c1020c4",
   "metadata": {},
   "outputs": [
    {
     "ename": "ModuleNotFoundError",
     "evalue": "No module named 'cvxpy'",
     "output_type": "error",
     "traceback": [
      "\u001b[1;31m---------------------------------------------------------------------------\u001b[0m",
      "\u001b[1;31mModuleNotFoundError\u001b[0m                       Traceback (most recent call last)",
      "Input \u001b[1;32mIn [13]\u001b[0m, in \u001b[0;36m<cell line: 2>\u001b[1;34m()\u001b[0m\n\u001b[0;32m      1\u001b[0m \u001b[38;5;28;01mimport\u001b[39;00m \u001b[38;5;21;01mnumpy\u001b[39;00m \u001b[38;5;28;01mas\u001b[39;00m \u001b[38;5;21;01mnp\u001b[39;00m\n\u001b[1;32m----> 2\u001b[0m \u001b[38;5;28;01mimport\u001b[39;00m \u001b[38;5;21;01mcvxpy\u001b[39;00m \u001b[38;5;28;01mas\u001b[39;00m \u001b[38;5;21;01mcp\u001b[39;00m\n\u001b[0;32m      4\u001b[0m \u001b[38;5;66;03m# Define the expected return and covariance matrix of the assets\u001b[39;00m\n\u001b[0;32m      5\u001b[0m mu \u001b[38;5;241m=\u001b[39m np\u001b[38;5;241m.\u001b[39marray([\u001b[38;5;241m0.1\u001b[39m, \u001b[38;5;241m0.15\u001b[39m, \u001b[38;5;241m0.12\u001b[39m])\n",
      "\u001b[1;31mModuleNotFoundError\u001b[0m: No module named 'cvxpy'"
     ]
    }
   ],
   "source": [
    "import numpy as np\n",
    "import cvxpy as cp\n",
    "\n",
    "# Define the expected return and covariance matrix of the assets\n",
    "mu = np.array([0.1, 0.15, 0.12])\n",
    "sigma = np.array([[0.5, 0.1, 0.0], [0.1, 0.4, 0.2], [0.0, 0.2, 0.3]])\n",
    "\n",
    "# Define the optimization variables\n",
    "w = cp.Variable(len(mu))\n",
    "\n",
    "# Define the mean-variance optimization problem\n",
    "obj = cp.Minimize(cp.quad_form(w, sigma))\n",
    "constraints = [cp.sum(w) == 1, w >= 0]\n",
    "prob = cp.Problem(obj, constraints)\n",
    "\n",
    "# Solve the optimization problem\n",
    "prob.solve()\n",
    "\n",
    "# Print the optimal weights\n",
    "print(w.value)"
   ]
  },
  {
   "cell_type": "markdown",
   "id": "1be26499",
   "metadata": {},
   "source": [
    "This code defines an optimization problem that minimizes the variance of the portfolio while maintaining a sum of weights equal to 1, which ensures that the portfolio is fully invested. The optimal weights can then be accessed through the w.value attribute."
   ]
  },
  {
   "cell_type": "markdown",
   "id": "19f7046b",
   "metadata": {},
   "source": [
    "# 2.  MVSK "
   ]
  },
  {
   "cell_type": "code",
   "execution_count": null,
   "id": "505a6ec0",
   "metadata": {},
   "outputs": [],
   "source": [
    "import numpy as np\n",
    "import cvxpy as cp\n",
    "\n",
    "# Define the expected return, covariance, skewness, and kurtosis of the assets\n",
    "mu = np.array([0.1, 0.15, 0.12])\n",
    "sigma = np.array([[0.5, 0.1, 0.0], [0.1, 0.4, 0.2], [0.0, 0.2, 0.3]])\n",
    "skew = np.array([0.2, 0.3, 0.1])\n",
    "kurt = np.array([1.2, 1.3, 1.1])\n",
    "\n",
    "# Define the optimization variables\n",
    "w = cp.Variable(len(mu))\n",
    "\n",
    "# Define the mean-variance-skewness-kurtosis optimization problem\n",
    "obj = cp.Minimize(cp.quad_form(w, sigma) + \n",
    "                   10*cp.norm(skew @ w, 1) + \n",
    "                   100*cp.norm(kurt @ w, 1))\n",
    "constraints = [cp.sum(w) == 1, w >= 0]\n",
    "prob = cp.Problem(obj, constraints)\n",
    "\n",
    "# Solve the optimization problem\n",
    "prob.solve()\n",
    "\n",
    "# Print the optimal weights\n",
    "print(w.value)"
   ]
  },
  {
   "cell_type": "markdown",
   "id": "aaea494c",
   "metadata": {},
   "source": [
    "This code defines an optimization problem that minimizes the variance of the portfolio while taking into account the skewness and kurtosis of the assets. The objective function includes terms for the variance, skewness, and kurtosis of the portfolio, each weighted by a different coefficient. The optimization problem also includes constraints that ensure that the portfolio is fully invested (weights sum to 1) and that all weights are non-negative. The optimal weights can then be accessed through the w.value attribute."
   ]
  },
  {
   "cell_type": "markdown",
   "id": "ad7f6382",
   "metadata": {},
   "source": [
    "# Part 1"
   ]
  },
  {
   "cell_type": "code",
   "execution_count": 3,
   "id": "00ec9e5b",
   "metadata": {},
   "outputs": [
    {
     "name": "stdout",
     "output_type": "stream",
     "text": [
      "     fun: -4.362277660168379\n",
      "     jac: array([ 0.06491101, -0.56754452, -1.19999999])\n",
      " message: 'Optimization terminated successfully'\n",
      "    nfev: 12\n",
      "     nit: 3\n",
      "    njev: 3\n",
      "  status: 0\n",
      " success: True\n",
      "       x: array([0., 0., 1.])\n"
     ]
    }
   ],
   "source": [
    "import numpy as np\n",
    "import scipy.optimize as optimize\n",
    "import pandas as pd\n",
    "\n",
    "# Define the data\n",
    "data = pd.DataFrame({'Asset1': [1, 2, 3, 4, 5],\n",
    "                     'Asset2': [2, 3, 4, 5, 6],\n",
    "                     'Asset3': [3, 4, 5, 6, 7]})\n",
    "\n",
    "# Define the expected returns and covariance matrix\n",
    "expected_returns = np.array([data[asset].mean() for asset in data.columns])\n",
    "cov_matrix = data.cov()\n",
    "\n",
    "# Define the optimization function\n",
    "def mvsk_portfolio_optimization(weights, expected_returns, cov_matrix, skewness, kurtosis):\n",
    "    portfolio_return = np.sum(expected_returns * weights)\n",
    "    portfolio_volatility = np.sqrt(np.dot(weights.T, np.dot(cov_matrix, weights)))\n",
    "    portfolio_skewness = np.dot(weights.T, skewness)\n",
    "    portfolio_kurtosis = np.dot(weights.T, kurtosis)\n",
    "    return -portfolio_return / portfolio_volatility + portfolio_skewness + portfolio_kurtosis\n",
    "\n",
    "# Define the constraints\n",
    "constraints = ({'type': 'eq', 'fun': lambda x: np.sum(x) - 1},\n",
    "              {'type': 'ineq', 'fun': lambda x: x})\n",
    "\n",
    "# Define the initial weights\n",
    "initial_weights = np.ones(data.shape[1]) / data.shape[1]\n",
    "\n",
    "# Calculate the skewness and kurtosis\n",
    "skewness = data.skew().values\n",
    "kurtosis = data.kurtosis().values\n",
    "\n",
    "# Optimize the portfolio\n",
    "optimal_weights = optimize.minimize(fun=mvsk_portfolio_optimization,\n",
    "                                     x0=initial_weights,\n",
    "                                     args=(expected_returns, cov_matrix, skewness, kurtosis),\n",
    "                                     method='SLSQP',\n",
    "                                     constraints=constraints,\n",
    "                                     bounds=[(0, 1)] * data.shape[1])\n",
    "\n",
    "# Print the optimal weights\n",
    "print(optimal_weights)\n"
   ]
  },
  {
   "cell_type": "code",
   "execution_count": 10,
   "id": "22cc8da0",
   "metadata": {},
   "outputs": [
    {
     "data": {
      "text/plain": [
       "array([0.3, 0.5, 0.4])"
      ]
     },
     "execution_count": 10,
     "metadata": {},
     "output_type": "execute_result"
    }
   ],
   "source": [
    "skewness"
   ]
  },
  {
   "cell_type": "markdown",
   "id": "2560664a",
   "metadata": {},
   "source": [
    "In this code, we use the scipy.optimize module to minimize the objective function mvsk_portfolio_optimization, which calculates the portfolio return, volatility, skewness, and kurtosis given the weights and inputs for expected returns, covariance matrix, skewness, and kurtosis. The optimization is subject to the constraints that the sum of weights must equal 1 and that all weights must be non-negative. The optimization is performed using the Sequential Least SQuares Programming (SLSQP) method."
   ]
  },
  {
   "cell_type": "markdown",
   "id": "6a02716d",
   "metadata": {},
   "source": [
    "# Part 2"
   ]
  },
  {
   "cell_type": "code",
   "execution_count": 11,
   "id": "c031999b",
   "metadata": {},
   "outputs": [
    {
     "name": "stdout",
     "output_type": "stream",
     "text": [
      "Optimal weights:  [1.00000000e+00 1.65145675e-15 1.66533454e-16]\n"
     ]
    }
   ],
   "source": [
    "import numpy as np\n",
    "from scipy.optimize import minimize\n",
    "\n",
    "def objective_function(weights, mean_returns, cov_matrix, skewness, kurtosis):\n",
    "    portfolio_return = np.sum(mean_returns * weights)\n",
    "    portfolio_volatility = np.sqrt(np.dot(weights.T, np.dot(cov_matrix, weights)))\n",
    "    portfolio_skewness = np.dot(weights.T, skewness)\n",
    "    portfolio_kurtosis = np.dot(weights.T, kurtosis)\n",
    "    \n",
    "    objective = -(portfolio_return - 0.1 * portfolio_volatility - 0.5 * portfolio_skewness - 0.5 * portfolio_kurtosis)\n",
    "    return objective\n",
    "\n",
    "def optimize_portfolio(mean_returns, cov_matrix, skewness, kurtosis):\n",
    "    num_assets = mean_returns.shape[0]\n",
    "    weights_0 = np.ones(num_assets) / num_assets\n",
    "    constraints = ({'type': 'eq', 'fun': lambda x: np.sum(x) - 1})\n",
    "    bounds = [(0, 1) for i in range(num_assets)]\n",
    "    \n",
    "    result = minimize(fun=objective_function, x0=weights_0, \n",
    "                      args=(mean_returns, cov_matrix, skewness, kurtosis),\n",
    "                      method='SLSQP', bounds=bounds, constraints=constraints)\n",
    "    return result.x\n",
    "\n",
    "# Example input\n",
    "mean_returns = np.array([0.1, 0.2, 0.15])\n",
    "cov_matrix = np.array([[0.01, 0.003, 0.006], [0.003, 0.02, 0.008], [0.006, 0.008, 0.04]])\n",
    "skewness = np.array([0.3, 0.5, 0.4])\n",
    "kurtosis = np.array([3.0, 4.0, 3.5])\n",
    "\n",
    "# Call the optimization function\n",
    "optimal_weights = optimize_portfolio(mean_returns, cov_matrix, skewness, kurtosis)\n",
    "print(\"Optimal weights: \", optimal_weights)\n"
   ]
  },
  {
   "cell_type": "markdown",
   "id": "54abf4db",
   "metadata": {},
   "source": [
    "Sequential Least Squares Programming (SLSQP) is an optimization algorithm for solving non-linear optimization problems. It is a gradient-based optimization method that combines the benefits of quasi-Newton methods and sequential linear programming. It uses a sequential linear programming method to improve the accuracy of the solution while taking into account the constraints of the problem. SLSQP is well suited for problems with a large number of constraints and is widely used in a variety of applications such as engineering design, control systems, and finance."
   ]
  },
  {
   "cell_type": "markdown",
   "id": "59d3a123",
   "metadata": {},
   "source": [
    "# 3. Shannon Entropy"
   ]
  },
  {
   "cell_type": "markdown",
   "id": "8e4191a3",
   "metadata": {},
   "source": [
    "\n",
    "In this example, the shannon_entropy function takes in a data set (in this case, stock returns) and calculates its Shannon entropy. The entropy is calculated by first finding the unique values and their frequencies in the data set, converting the frequencies to probabilities, and then summing the products of the probabilities and their logarithms. The result is the entropy in bits.\n"
   ]
  },
  {
   "cell_type": "markdown",
   "id": "95a7f1ec",
   "metadata": {},
   "source": [
    "Shannon entropy is used in finance to measure the amount of uncertainty or randomness in a financial time series. It can be used to quantify the risk of an investment or the diversity of an investment portfolio."
   ]
  },
  {
   "cell_type": "code",
   "execution_count": 4,
   "id": "f1b06f52",
   "metadata": {},
   "outputs": [
    {
     "name": "stdout",
     "output_type": "stream",
     "text": [
      "Shannon entropy: 2.584962500721156\n"
     ]
    }
   ],
   "source": [
    "import numpy as np\n",
    "\n",
    "def shannon_entropy(data):\n",
    "    \"\"\"\n",
    "    Calculate the Shannon entropy of a given data set.\n",
    "    \"\"\"\n",
    "    unique, counts = np.unique(data, return_counts=True)\n",
    "    probs = counts / len(data)\n",
    "    entropy = - np.sum(probs * np.log2(probs))\n",
    "    return entropy\n",
    "\n",
    "# Example usage:\n",
    "stock_returns = [0.05, 0.03, 0.02, -0.03, -0.04, -0.01]\n",
    "entropy = shannon_entropy(stock_returns)\n",
    "print(\"Shannon entropy:\", entropy)"
   ]
  },
  {
   "cell_type": "code",
   "execution_count": null,
   "id": "0c5b9233",
   "metadata": {},
   "outputs": [],
   "source": [
    "import pandas as pd\n",
    "import numpy as np\n",
    "\n",
    "# Load stock market data into a Pandas dataframe\n",
    "df = pd.read_csv('stock_market_data.csv')\n",
    "\n",
    "# Calculate the daily returns of the stock market\n",
    "df['returns'] = df['price'].pct_change()\n",
    "\n",
    "# Calculate the probability density of the returns\n",
    "returns_prob = df['returns'].value_counts(normalize=True)\n",
    "\n",
    "# Calculate the Shannon entropy\n",
    "shannon_entropy = -np.sum(returns_prob * np.log2(returns_prob))\n",
    "\n",
    "print('Shannon entropy:', shannon_entropy)"
   ]
  },
  {
   "cell_type": "markdown",
   "id": "b3a8409d",
   "metadata": {},
   "source": [
    "This code first loads the stock market data into a Pandas dataframe, calculates the daily returns of the stock market, and then calculates the probability density of the returns using the value_counts method with the normalize argument set to True. Finally, it calculates the Shannon entropy using the formula -np.sum(returns_prob * np.log2(returns_prob))."
   ]
  },
  {
   "cell_type": "markdown",
   "id": "bbe5e6d6",
   "metadata": {},
   "source": [
    "# 4. Portfolio Variance"
   ]
  },
  {
   "cell_type": "raw",
   "id": "d9d0c9b3",
   "metadata": {},
   "source": [
    "import pandas as pd\n",
    "import numpy as np\n",
    "import matplotlib.pyplot as plt\n",
    "\n",
    "# Load stock prices\n",
    "ticker_list = ['AAPL', 'GOOG', 'MSFT', 'IBM']\n",
    "prices = pd.DataFrame()\n",
    "for ticker in ticker_list:\n",
    "    prices[ticker] = data.DataReader(ticker, 'yahoo', start, end)['Adj Close']\n",
    "\n",
    "# Calculate daily returns\n",
    "returns = prices.pct_change()\n",
    "returns = returns.dropna()\n",
    "\n",
    "# Calculate covariance matrix\n",
    "cov_matrix = returns.cov()\n",
    "\n",
    "# Define portfolio weights\n",
    "weights = np.array([0.25, 0.25, 0.25, 0.25])\n",
    "\n",
    "# Calculate portfolio variance\n",
    "portfolio_variance = np.dot(weights.T, np.dot(cov_matrix, weights))\n",
    "\n",
    "# Plot results\n",
    "plt.bar(ticker_list, weights)\n",
    "plt.title('Portfolio weights')\n",
    "plt.xlabel('Stocks')\n",
    "plt.ylabel('Weights')\n",
    "plt.show()\n",
    "\n",
    "print('Portfolio variance:', portfolio_variance)"
   ]
  },
  {
   "cell_type": "markdown",
   "id": "12f1ffe9",
   "metadata": {},
   "source": [
    "# 5. VaR"
   ]
  },
  {
   "cell_type": "markdown",
   "id": "1c2dc1ac",
   "metadata": {},
   "source": [
    "VaR is a common measure of risk used in finance that represents the maximum potential loss for a portfolio over a specified time horizon with a given confidence level."
   ]
  },
  {
   "cell_type": "code",
   "execution_count": 24,
   "id": "4a6be7bf",
   "metadata": {},
   "outputs": [
    {
     "name": "stdout",
     "output_type": "stream",
     "text": [
      "Value at Risk (VaR): -197.9234255576126\n"
     ]
    }
   ],
   "source": [
    "import numpy as np\n",
    "\n",
    "def portfolio_var(returns, alpha):\n",
    "    portfolio_mean = np.mean(returns)\n",
    "    portfolio_std = np.std(returns)\n",
    "    var = portfolio_mean - (alpha * portfolio_std)\n",
    "    return var\n",
    "\n",
    "returns = np.random.randn(100)*100\n",
    "alpha = 1.96 # corresponds to a 95% confidence level\n",
    "\n",
    "portfolio_var = portfolio_var(returns, alpha)\n",
    "print(\"Value at Risk (VaR):\", portfolio_var)"
   ]
  },
  {
   "cell_type": "markdown",
   "id": "3e5c26ad",
   "metadata": {},
   "source": [
    "In this example, the portfolio returns are represented by the returns list, and the confidence level is represented by the alpha value, which is calculated based on a standard normal distribution. The portfolio_var function calculates the VaR for the portfolio by first computing the mean and standard deviation of the returns, and then using those values to estimate the VaR using the formula: portfolio_mean - (alpha * portfolio_std)."
   ]
  },
  {
   "cell_type": "code",
   "execution_count": 25,
   "id": "b107c554",
   "metadata": {},
   "outputs": [
    {
     "data": {
      "image/png": "[encoded data removed]",
      "text/plain": [
       "<Figure size 432x288 with 1 Axes>"
      ]
     },
     "metadata": {
      "needs_background": "light"
     },
     "output_type": "display_data"
    }
   ],
   "source": [
    "import matplotlib.pyplot as plt\n",
    "\n",
    "plt.hist(returns, bins=20, density=True)\n",
    "plt.axvline(portfolio_var, color='r', linestyle='--')\n",
    "plt.xlabel('Return')\n",
    "plt.ylabel('Density')\n",
    "plt.title('Portfolio Return Distribution with VaR')\n",
    "plt.show()"
   ]
  },
  {
   "cell_type": "markdown",
   "id": "6dd6b973",
   "metadata": {},
   "source": [
    "# 6. Sharpe Ratio"
   ]
  },
  {
   "cell_type": "markdown",
   "id": "44f5dce7",
   "metadata": {},
   "source": [
    "The Sharpe ratio is a measure of the risk-adjusted returns of an investment, commonly used in finance. It can be calculated as the ratio of the excess return of an investment over its risk-free rate, to its standard deviation. Here is an example of how to calculate the Sharpe ratio in Python using Numpy and Pandas libraries:"
   ]
  },
  {
   "cell_type": "code",
   "execution_count": 26,
   "id": "73bcb193",
   "metadata": {},
   "outputs": [
    {
     "name": "stdout",
     "output_type": "stream",
     "text": [
      "Sharpe Ratio: 2.6349301969610397\n"
     ]
    }
   ],
   "source": [
    "import numpy as np\n",
    "import pandas as pd\n",
    "\n",
    "def sharpe_ratio(returns, risk_free_rate):\n",
    "    excess_return = returns - risk_free_rate\n",
    "    sharpe = np.mean(excess_return) / np.std(excess_return)\n",
    "    return sharpe\n",
    "\n",
    "# Example usage:\n",
    "returns = pd.Series([0.03, 0.04, 0.05, 0.06, 0.07, 0.08])\n",
    "risk_free_rate = 0.01\n",
    "sharpe = sharpe_ratio(returns, risk_free_rate)\n",
    "print(\"Sharpe Ratio:\", sharpe)"
   ]
  },
  {
   "cell_type": "markdown",
   "id": "b59aaca6",
   "metadata": {},
   "source": [
    "The function takes in the returns of an investment as a Pandas Series, and the risk-free rate as a scalar. It calculates the excess returns over the risk-free rate, and then calculates the mean of the excess returns divided by its standard deviation. The result is the Sharpe ratio, which is a measure of the risk-adjusted returns of the investment."
   ]
  },
  {
   "cell_type": "markdown",
   "id": "1806fba6",
   "metadata": {},
   "source": [
    "# Yield Curve"
   ]
  },
  {
   "cell_type": "code",
   "execution_count": 27,
   "id": "ed205f57",
   "metadata": {},
   "outputs": [
    {
     "data": {
      "image/png": "[encoded data removed]",
      "text/plain": [
       "<Figure size 432x288 with 1 Axes>"
      ]
     },
     "metadata": {
      "needs_background": "light"
     },
     "output_type": "display_data"
    }
   ],
   "source": [
    "import numpy as np\n",
    "import matplotlib.pyplot as plt\n",
    "\n",
    "# Bond yield data for different maturities\n",
    "maturities = [1, 2, 3, 5, 7, 10, 20, 30]\n",
    "yields = [0.5, 1.0, 1.5, 2.0, 2.5, 3.0, 3.5, 4.0]\n",
    "\n",
    "# Plot the bond yields\n",
    "plt.scatter(maturities, yields)\n",
    "\n",
    "# Fit a polynomial curve to the scatter plot\n",
    "coeffs = np.polyfit(maturities, yields, 3)\n",
    "x = np.linspace(0, 30, 100)\n",
    "y = np.polyval(coeffs, x)\n",
    "\n",
    "# Plot the fitted curve\n",
    "plt.plot(x, y)\n",
    "plt.xlabel(\"Maturity (years)\")\n",
    "plt.ylabel(\"Yield (%)\")\n",
    "plt.title(\"Yield Curve of Government Bond\")\n",
    "plt.show()"
   ]
  },
  {
   "cell_type": "markdown",
   "id": "107dba50",
   "metadata": {},
   "source": [
    "# Monte Carlo"
   ]
  },
  {
   "cell_type": "markdown",
   "id": "4d9c7fd4",
   "metadata": {},
   "source": [
    "In this example, we simulate the price of a stock over a time horizon of 365 days, with a time step of 1/365 of a day. The stock's initial price is set to 100, and its volatility is set to 0.2. The simulation uses random normal returns to generate the stock's price evolution. The results are plotted to show the simulation of the stock price."
   ]
  },
  {
   "cell_type": "code",
   "execution_count": 1,
   "id": "fb99e01b",
   "metadata": {},
   "outputs": [
    {
     "data": {
      "image/png": "[encoded data removed]",
      "text/plain": [
       "<Figure size 432x288 with 1 Axes>"
      ]
     },
     "metadata": {
      "needs_background": "light"
     },
     "output_type": "display_data"
    }
   ],
   "source": [
    "import numpy as np\n",
    "import matplotlib.pyplot as plt\n",
    "\n",
    "# Number of simulations\n",
    "simulations = 1000\n",
    "\n",
    "# Stock data\n",
    "initial_price = 100\n",
    "volatility = 0.2\n",
    "returns = np.random.normal(0, volatility, simulations)\n",
    "\n",
    "# Time horizon\n",
    "time_horizon = 365\n",
    "dt = 1/365\n",
    "\n",
    "# Monte Carlo simulation\n",
    "price_list = [initial_price]\n",
    "for i in range(1, time_horizon):\n",
    "    price = price_list[i-1] * (1 + returns[i-1] * dt)\n",
    "    price_list.append(price)\n",
    "\n",
    "# Plotting the results\n",
    "plt.plot(price_list)\n",
    "plt.xlabel('Time (days)')\n",
    "plt.ylabel('Price')\n",
    "plt.title('Monte Carlo Simulation of Stock Price')\n",
    "plt.show()"
   ]
  }
 ],
 "metadata": {
  "kernelspec": {
   "display_name": "Python 3 (ipykernel)",
   "language": "python",
   "name": "python3"
  },
  "language_info": {
   "codemirror_mode": {
    "name": "ipython",
    "version": 3
   },
   "file_extension": ".py",
   "mimetype": "text/x-python",
   "name": "python",
   "nbconvert_exporter": "python",
   "pygments_lexer": "ipython3",
   "version": "3.9.12"
  }
 },
 "nbformat": 4,
 "nbformat_minor": 5
}
