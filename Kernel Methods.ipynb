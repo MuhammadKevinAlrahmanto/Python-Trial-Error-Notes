{
 "cells": [
  {
   "cell_type": "markdown",
   "id": "a4a35f2e",
   "metadata": {},
   "source": [
    "Regression Kernel Methods are a family of machine learning algorithms that **use kernel functions to model non-linear relationships in data for regression tasks**. The idea behind these methods is to transform the input features into a high-dimensional space, where a linear regression model can be applied, using a kernel function."
   ]
  },
  {
   "cell_type": "markdown",
   "id": "a2a2b7de",
   "metadata": {},
   "source": [
    "There are several regression kernel methods, including:\n",
    "\n",
    "1. **Support Vector Regression (SVR):** SVR is a type of support vector machine that is used for regression tasks. It maps the input data into a high-dimensional feature space using a kernel function and then finds the hyperplane that best separates the data into classes.\n",
    "\n",
    "2. **Gaussian Process Regression (GPR):** GPR is a non-parametric Bayesian approach to regression that models the data using a Gaussian distribution. It uses a kernel function to model the covariance between the input features and target variable.\n",
    "\n",
    "3. **Kernel Ridge Regression (KRR):** KRR combines Ridge Regression with the kernel trick to model non-linear relationships in data. It maps the input data into a high-dimensional space using a kernel function and performs linear regression in that space.\n",
    "\n",
    "4. **Locally Weighted Regression (LWR):** LWR is a non-parametric regression algorithm that assigns higher weights to points that are closer to a query point. It uses a kernel function to model the similarity between points in the data.\n",
    "\n",
    "In general, regression kernel methods are useful when the relationships between the input variables and the target variable are complex and non-linear, and when there is **a small amount of training data**. The choice of kernel function can have a significant impact on the performance of the algorithm, so it is important to carefully consider the properties of the data when selecting a kernel function."
   ]
  },
  {
   "cell_type": "markdown",
   "id": "3380e761",
   "metadata": {},
   "source": [
    "**A kernel algorithm** is a type of machine learning algorithm that helps to transform data into a higher dimensional space in order to find a boundary between different classes of data points. This boundary can then be used to make predictions about new data points based on their position relative to the boundary.\n",
    "\n",
    "Think of it like trying to draw a line between two different colors of M&Ms on a flat surface. If you only have two colors, a simple line will do the job. But if you have more colors, you might need to transform the data into a higher dimensional space to properly separate the colors.\n",
    "\n",
    "Kernels are mathematical functions that are used to perform this transformation. They are like \"handles\" that allow the algorithm to manipulate and analyze the data in a more useful way. The choice of kernel can have a big impact on the performance of the algorithm, so it is an important consideration in the design of any machine learning model."
   ]
  },
  {
   "cell_type": "markdown",
   "id": "49395768",
   "metadata": {},
   "source": [
    "# 1. KRR "
   ]
  },
  {
   "cell_type": "markdown",
   "id": "7149e1fc",
   "metadata": {},
   "source": [
    "**Kernel Ridge Regression (KRR) is a machine learning algorithm that combines Ridge Regression (a regularization technique) with the kernel trick.** The kernel trick allows the algorithm to model non-linear relationships in the data by transforming the input features into a higher-dimensional space, where a linear regression model can be applied.\n",
    "\n",
    "KRR uses a kernel function to map the input data into a higher-dimensional feature space and then performs linear regression in that space. The kernel function can be chosen based on the properties of the data, such as polynomial, radial basis function (RBF), or sigmoid.\n",
    "\n",
    "In KRR, the model parameters are found by minimizing the mean squared error (MSE) between the predicted and actual values, with an L2 regularization term to prevent overfitting. The regularization parameter, lambda, controls the trade-off between the MSE and the magnitude of the coefficients in the model.\n",
    "\n",
    "KRR can be used for a variety of tasks, including regression, classification, and dimensionality reduction. It is especially useful in cases where the relationships between the input variables and the target variable are complex and non-linear, and when there is a small amount of training data.\n",
    "\n",
    "check also: https://www.mdelcueto.com/blog/kernel-ridge-regression-tutorial/"
   ]
  },
  {
   "cell_type": "code",
   "execution_count": 2,
   "id": "003112ff",
   "metadata": {},
   "outputs": [],
   "source": [
    "import matplotlib.pyplot as plt\n",
    "import pandas as pd"
   ]
  },
  {
   "cell_type": "code",
   "execution_count": 3,
   "id": "bac29110",
   "metadata": {},
   "outputs": [
    {
     "data": {
      "image/png": "[encoded data removed]",
      "text/plain": [
       "<Figure size 432x288 with 1 Axes>"
      ]
     },
     "metadata": {
      "needs_background": "light"
     },
     "output_type": "display_data"
    }
   ],
   "source": [
    "import numpy as np\n",
    "from sklearn.kernel_ridge import KernelRidge\n",
    "from sklearn.metrics import mean_squared_error, r2_score\n",
    "\n",
    "# Generate simulated data\n",
    "np.random.seed(42)\n",
    "X = np.sort(5 * np.random.rand(80, 1), axis=0)\n",
    "y = np.sin(X).ravel()\n",
    "\n",
    "# Add noise to the target\n",
    "#y[::5] += 3 * (0.5 - 1.1*np.random.rand(16))\n",
    "plt.scatter(X, y);"
   ]
  },
  {
   "cell_type": "code",
   "execution_count": 25,
   "id": "f20b895c",
   "metadata": {},
   "outputs": [
    {
     "name": "stdout",
     "output_type": "stream",
     "text": [
      "Mean Squared Error: 0.0008268657380793639\n",
      "R-squared: 0.9496622350770851\n"
     ]
    }
   ],
   "source": [
    "# Split the data into training and test sets\n",
    "X_train, X_test = X[:60], X[60:]\n",
    "y_train, y_test = y[:60], y[60:]\n",
    "\n",
    "# Train a KRR model on the training data\n",
    "krr = KernelRidge(kernel='rbf',  gamma=0.1, alpha=0.000001)\n",
    "krr.fit(X_train, y_train)\n",
    "\n",
    "# Make predictions on the test data\n",
    "y_pred = krr.predict(X_test)\n",
    "\n",
    "# Evaluate the model performance using mean squared error\n",
    "mse = mean_squared_error(y_test, y_pred)\n",
    "print(\"Mean Squared Error:\", mse)\n",
    "\n",
    "r2 = r2_score(y_test, y_pred)\n",
    "print(\"R-squared:\", r2)"
   ]
  },
  {
   "cell_type": "code",
   "execution_count": 26,
   "id": "0cd789ed",
   "metadata": {},
   "outputs": [
    {
     "data": {
      "text/plain": [
       "[<matplotlib.lines.Line2D at 0x1227bc48f10>]"
      ]
     },
     "execution_count": 26,
     "metadata": {},
     "output_type": "execute_result"
    },
    {
     "data": {
      "image/png": "[encoded data removed]",
      "text/plain": [
       "<Figure size 432x288 with 1 Axes>"
      ]
     },
     "metadata": {
      "needs_background": "light"
     },
     "output_type": "display_data"
    }
   ],
   "source": [
    "plt.scatter(y_test, y_pred)\n",
    "plt.plot(y_test, y_test, color='red')"
   ]
  },
  {
   "cell_type": "markdown",
   "id": "fd7f56d8",
   "metadata": {},
   "source": [
    "Kernel Ridge Regression (KRR) is a regularized version of Ridge Regression that uses the kernel trick to project the data into a high-dimensional feature space. The main parameters of KRR are:\n",
    "\n",
    "**alpha:** This is the regularization strength, similar to Ridge Regression. A higher value of alpha increases the regularization effect, leading to a simpler model.\n",
    "\n",
    "**kernel:** This is the kernel function used to project the data into a higher-dimensional feature space. The most common kernel functions used in KRR are the polynomial, radial basis function (RBF), and sigmoid kernels.\n",
    "\n",
    "**degree:** This is the degree of the polynomial kernel.\n",
    "\n",
    "**gamma:** This is the kernel coefficient for the RBF and sigmoid kernels. A higher value of gamma increases the influence of individual samples.\n",
    "\n",
    "**coef0:** This is the constant term in the polynomial and sigmoid kernels."
   ]
  },
  {
   "cell_type": "markdown",
   "id": "92f0462c",
   "metadata": {},
   "source": [
    "# 2. SVR"
   ]
  },
  {
   "cell_type": "markdown",
   "id": "3089630b",
   "metadata": {},
   "source": [
    "**SVR works by finding the best line (or hyperplane) that separates the data points into two groups.** This line is chosen in a way that maximizes the margin between the two groups, or in other words, the distance between the line and the closest data points. These closest data points are called \"support vectors.\"\n",
    "\n",
    "Once the line is found, it can be used to make predictions about new data points by seeing which side of the line they fall on. The prediction is based on the average value of the data points in that group.\n",
    "\n",
    "In simpler terms, SVR is like a tool that helps to predict a value based on other values. It does this by finding the best line to separate the data and using it to make predictions. SVR can be useful in a variety of applications, such as predicting stock prices, forecasting weather, and more."
   ]
  },
  {
   "cell_type": "markdown",
   "id": "857cfeaf",
   "metadata": {},
   "source": [
    "**Kernel:** The kernel function used to transform the input data into a higher dimensional space to find the optimal boundary. The most commonly used kernels are linear, polynomial, radial basis function (RBF), and sigmoid.\n",
    "\n",
    "**C:** It is the regularization parameter that controls the trade-off between getting a good fit to the training data and having a simple model. Larger values of C result in a more complex model.\n",
    "\n",
    "**Gamma:** It is the kernel coefficient for the RBF, polynomial, or sigmoid kernel. It determines the shape of the boundary.\n",
    "\n",
    "**Epsilon:** It is the parameter used to determine the width of the margin between the support vectors and the decision boundary.\n",
    "\n",
    "**Tolerance:**It determines the accuracy of the solution. A smaller value of tolerance will result in a more accurate solution but takes longer to run."
   ]
  },
  {
   "cell_type": "code",
   "execution_count": 27,
   "id": "a7b008df",
   "metadata": {},
   "outputs": [
    {
     "data": {
      "image/png": "[encoded data removed]",
      "text/plain": [
       "<Figure size 432x288 with 1 Axes>"
      ]
     },
     "metadata": {
      "needs_background": "light"
     },
     "output_type": "display_data"
    }
   ],
   "source": [
    "import numpy as np\n",
    "from sklearn.svm import SVR\n",
    "from sklearn.metrics import mean_squared_error\n",
    "\n",
    "# Generate simulated data\n",
    "np.random.seed(42)\n",
    "X = 5 * np.random.rand(80, 1)\n",
    "y = np.sin(X).ravel()\n",
    "\n",
    "# Generate simulated data\n",
    "np.random.seed(42)\n",
    "X = np.sort(5 * np.random.rand(80, 1), axis=0)\n",
    "y = np.sin(X).ravel()\n",
    "\n",
    "# Add noise to the target\n",
    "#y[::5] += 3 * (0.5 - 1.1*np.random.rand(16))\n",
    "plt.scatter(X, y);"
   ]
  },
  {
   "cell_type": "code",
   "execution_count": 32,
   "id": "00df5914",
   "metadata": {},
   "outputs": [
    {
     "name": "stdout",
     "output_type": "stream",
     "text": [
      "Mean Squared Error: 0.13517897559349001\n"
     ]
    }
   ],
   "source": [
    "# Split the data into training and test sets\n",
    "X_train, X_test = X[:60], X[60:]\n",
    "y_train, y_test = y[:60], y[60:]\n",
    "\n",
    "# Train a SVR model on the training data\n",
    "svr = SVR(kernel='poly', C=1e3, degree=2)\n",
    "svr.fit(X_train, y_train)\n",
    "\n",
    "# Make predictions on the test data\n",
    "y_pred = svr.predict(X_test)\n",
    "\n",
    "# Evaluate the model performance using mean squared error\n",
    "mse = mean_squared_error(y_test, y_pred)\n",
    "print(\"Mean Squared Error:\", mse)"
   ]
  },
  {
   "cell_type": "code",
   "execution_count": 33,
   "id": "cadbd4e9",
   "metadata": {},
   "outputs": [
    {
     "data": {
      "text/plain": [
       "[<matplotlib.lines.Line2D at 0x1227bd51430>]"
      ]
     },
     "execution_count": 33,
     "metadata": {},
     "output_type": "execute_result"
    },
    {
     "data": {
      "image/png": "[encoded data removed]",
      "text/plain": [
       "<Figure size 432x288 with 1 Axes>"
      ]
     },
     "metadata": {
      "needs_background": "light"
     },
     "output_type": "display_data"
    }
   ],
   "source": [
    "plt.scatter(y_test, y_pred)\n",
    "plt.plot(y_test, y_test,color='red' )"
   ]
  },
  {
   "cell_type": "markdown",
   "id": "165b5fbc",
   "metadata": {},
   "source": [
    "# 3. GPR"
   ]
  },
  {
   "cell_type": "markdown",
   "id": "6d809a9c",
   "metadata": {},
   "source": [
    "**Mean function**: A mathematical expression that represents the prior mean of the target function.\n",
    "\n",
    "**Covariance function (Kernel):** It defines the correlation between the input variables and determines the smoothness of the target function.\n",
    "\n",
    "**Noise level:** It represents the level of uncertainty in the target function and the measurement error.\n",
    "\n",
    "**Hyperparameters:** The parameters of the covariance function and the mean function that control their behavior. These parameters need to be estimated or optimized during the model training process."
   ]
  },
  {
   "cell_type": "markdown",
   "id": "fce8ded2",
   "metadata": {},
   "source": [
    "Gaussian Process Regression (GPR) is a type of machine learning algorithm used for regression problems. Regression problems involve predicting a continuous value, like the price of a stock or the temperature outside.\n",
    "\n",
    "GPR works by modeling the relationship between the input variables and the target variable as a random process. This means that **the algorithm assigns a probability distribution to the possible values of the target variable, given a set of input variables.**\n",
    "\n",
    "The algorithm uses this probability distribution to make predictions about the target variable for new data points. The predictions take into account the uncertainty in the model and provide a range of possible values, instead of just a single value.\n",
    "\n",
    "In simpler terms, GPR is like a tool that helps to predict a value based on other values. It does this by modeling the relationship between the input variables and the target variable as a random process and using that information to make predictions."
   ]
  },
  {
   "cell_type": "code",
   "execution_count": 51,
   "id": "a05a86fc",
   "metadata": {},
   "outputs": [
    {
     "name": "stdout",
     "output_type": "stream",
     "text": [
      "Mean Squared Error: 0.45255778958350296\n"
     ]
    },
    {
     "name": "stderr",
     "output_type": "stream",
     "text": [
      "C:\\Users\\Kevin\\anaconda3\\lib\\site-packages\\sklearn\\gaussian_process\\kernels.py:420: ConvergenceWarning: The optimal value found for dimension 0 of parameter k2__length_scale is close to the specified lower bound 0.01. Decreasing the bound and calling fit again may find a better value.\n",
      "  warnings.warn(\n"
     ]
    }
   ],
   "source": [
    "import numpy as np\n",
    "from sklearn.gaussian_process import GaussianProcessRegressor\n",
    "from sklearn.gaussian_process.kernels import RBF, ConstantKernel as C\n",
    "from sklearn.metrics import mean_squared_error\n",
    "\n",
    "# Generate simulated data\n",
    "np.random.seed(42)\n",
    "X = 5 * np.random.rand(80, 1)\n",
    "y = np.sin(X).ravel()\n",
    "\n",
    "# Add noise to the target\n",
    "y[::5] += 3 * (0.5 - np.random.rand(16))\n",
    "\n",
    "# Split the data into training and test sets\n",
    "X_train, X_test = X[:60], X[60:]\n",
    "y_train, y_test = y[:60], y[60:]\n",
    "\n",
    "# Define the kernel\n",
    "kernel = C(1.0, (1e-3, 1e3)) * RBF(10, (1e-2, 1e2))\n",
    "\n",
    "# Train a GPR model on the training data\n",
    "gpr = GaussianProcessRegressor(kernel=kernel, n_restarts_optimizer=9)\n",
    "gpr.fit(X_train, y_train)\n",
    "\n",
    "# Make predictions on the test data\n",
    "y_pred, sigma = gpr.predict(X_test, return_std=True)\n",
    "\n",
    "# Evaluate the model performance using mean squared error\n",
    "mse = mean_squared_error(y_test, y_pred)\n",
    "print(\"Mean Squared Error:\", mse)"
   ]
  },
  {
   "cell_type": "code",
   "execution_count": 54,
   "id": "0188964a",
   "metadata": {},
   "outputs": [
    {
     "data": {
      "text/plain": [
       "<matplotlib.collections.PathCollection at 0x1b9604f09a0>"
      ]
     },
     "execution_count": 54,
     "metadata": {},
     "output_type": "execute_result"
    },
    {
     "data": {
      "image/png": "[encoded data removed]",
      "text/plain": [
       "<Figure size 432x288 with 1 Axes>"
      ]
     },
     "metadata": {
      "needs_background": "light"
     },
     "output_type": "display_data"
    }
   ],
   "source": [
    "plt.scatter(X, y)"
   ]
  },
  {
   "cell_type": "code",
   "execution_count": 55,
   "id": "dbf96ba9",
   "metadata": {},
   "outputs": [
    {
     "data": {
      "text/plain": [
       "[<matplotlib.lines.Line2D at 0x1b96055d730>]"
      ]
     },
     "execution_count": 55,
     "metadata": {},
     "output_type": "execute_result"
    },
    {
     "data": {
      "image/png": "[encoded data removed]",
      "text/plain": [
       "<Figure size 432x288 with 1 Axes>"
      ]
     },
     "metadata": {
      "needs_background": "light"
     },
     "output_type": "display_data"
    }
   ],
   "source": [
    "plt.scatter(y_test, y_pred)\n",
    "plt.plot(y_test, y_test,color='red' )"
   ]
  },
  {
   "cell_type": "markdown",
   "id": "c9e180d7",
   "metadata": {},
   "source": [
    "# 4. KNN Regression and LWR"
   ]
  },
  {
   "cell_type": "markdown",
   "id": "a1e7f63f",
   "metadata": {},
   "source": [
    "### 4.1  KNN Regression"
   ]
  },
  {
   "cell_type": "markdown",
   "id": "d2874477",
   "metadata": {},
   "source": [
    "KNN Regressor is a machine learning algorithm that is used to predict a target value based on the nearest data points in the training set.\n",
    "\n",
    "Imagine you have a dataset of heights and weights of people, and you want to predict the weight of a new person based on their height. The KNN Regressor will look at the K nearest people in the dataset (based on their height), and predict the weight of the new person as the average of the weights of the K nearest neighbors.\n",
    "\n",
    "So, the idea behind KNN Regressor is to find the closest data points and use those data points to make a prediction for a new data point. The \"K\" in KNN Regressor refers to the number of nearest neighbors that the algorithm considers when making a prediction."
   ]
  },
  {
   "cell_type": "code",
   "execution_count": 61,
   "id": "b4b74e02",
   "metadata": {},
   "outputs": [
    {
     "data": {
      "text/plain": [
       "<matplotlib.collections.PathCollection at 0x1b960754e80>"
      ]
     },
     "execution_count": 61,
     "metadata": {},
     "output_type": "execute_result"
    },
    {
     "data": {
      "image/png": "[encoded data removed]",
      "text/plain": [
       "<Figure size 432x288 with 1 Axes>"
      ]
     },
     "metadata": {
      "needs_background": "light"
     },
     "output_type": "display_data"
    }
   ],
   "source": [
    "import numpy as np\n",
    "from sklearn.neighbors import KNeighborsRegressor\n",
    "from sklearn.metrics import mean_squared_error\n",
    "\n",
    "# Generate simulated data\n",
    "np.random.seed(42)\n",
    "X = 5 * np.random.rand(80, 1)\n",
    "y = np.sin(X).ravel()\n",
    "\n",
    "# Add noise to the target\n",
    "y[::5] += 3 * (0.5 - np.random.rand(16))\n",
    "plt.scatter(X, y)"
   ]
  },
  {
   "cell_type": "code",
   "execution_count": 62,
   "id": "00d02b02",
   "metadata": {},
   "outputs": [
    {
     "name": "stdout",
     "output_type": "stream",
     "text": [
      "Mean Squared Error: 0.08190954481296132\n"
     ]
    }
   ],
   "source": [
    "# Split the data into training and test sets\n",
    "X_train, X_test = X[:60], X[60:]\n",
    "y_train, y_test = y[:60], y[60:]\n",
    "\n",
    "# Train a LWR model on the training data\n",
    "lwr = KNeighborsRegressor(weights='distance')\n",
    "lwr.fit(X_train, y_train)\n",
    "\n",
    "# Make predictions on the test data\n",
    "y_pred = lwr.predict(X_test)\n",
    "\n",
    "# Evaluate the model performance using mean squared error\n",
    "mse = mean_squared_error(y_test, y_pred)\n",
    "print(\"Mean Squared Error:\", mse)"
   ]
  },
  {
   "cell_type": "code",
   "execution_count": 63,
   "id": "0b7e25eb",
   "metadata": {},
   "outputs": [
    {
     "data": {
      "text/plain": [
       "[<matplotlib.lines.Line2D at 0x1b9607c84c0>]"
      ]
     },
     "execution_count": 63,
     "metadata": {},
     "output_type": "execute_result"
    },
    {
     "data": {
      "image/png": "[encoded data removed]",
      "text/plain": [
       "<Figure size 432x288 with 1 Axes>"
      ]
     },
     "metadata": {
      "needs_background": "light"
     },
     "output_type": "display_data"
    }
   ],
   "source": [
    "plt.scatter(y_test, y_pred)\n",
    "plt.plot(y_test, y_test,color='red' )"
   ]
  },
  {
   "cell_type": "markdown",
   "id": "e9f8fad2",
   "metadata": {},
   "source": [
    "**scikit-learn (sklearn) does not have a built-in implementation of Locally Weighted Regression (LWR).** However, you can implement LWR from scratch using numpy and scipy libraries in Python, or you could use other libraries that provide LWR implementation such as statsmodels."
   ]
  },
  {
   "cell_type": "markdown",
   "id": "3a2b204c",
   "metadata": {},
   "source": [
    "### 4.2 LWR from scratch"
   ]
  },
  {
   "cell_type": "markdown",
   "id": "a1cc6a9d",
   "metadata": {},
   "source": [
    "Locally Weighted Regression (LWR) is a type of machine learning algorithm used for regression problems. Regression problems involve predicting a continuous value, like the price of a stock or the temperature outside.\n",
    "\n",
    "LWR works by fitting a separate regression model to each data point.**The models are weighted based on how close each data point is to the point being predicted.** This means that data points that are close to the point being predicted have a stronger influence on the prediction than data points that are far away.\n",
    "\n",
    "The algorithm then combines the individual models to make a prediction for the point being considered. This approach allows LWR to capture complex relationships between the input variables and the target variable, while still being flexible enough to handle non-linear relationships.\n",
    "\n",
    "In simpler terms, LWR is like a tool that helps to predict a value based on other values. It does this by fitting a separate regression model to each data point, weighting the models based on how close each data point is to the point being predicted, and combining the models to make a prediction. LWR can be useful in a variety of applications, such as predicting stock prices, forecasting weather, and more."
   ]
  },
  {
   "cell_type": "markdown",
   "id": "8718fd92",
   "metadata": {},
   "source": [
    "1. Prediction method: In KNN Regression, the prediction for a new data point is made by averaging the target values of its k-nearest neighbors. In LWR, the prediction is made by fitting a weighted linear regression model to the data points close to the point being predicted.\n",
    "\n",
    "2. Complexity: KNN Regression has a linear time complexity with respect to the number of training data points, as it needs to compute the distances between the test point and all the training data points. LWR has a quadratic time complexity, as it requires the inversion of a matrix.\n",
    "\n",
    "3.  Flexibility: **LWR allows for different weighting functions to be used, which can have a significant impact on the quality of the predictions. In KNN Regression, the weighting is typically done using a simple function such as the inverse of the distance or the Gaussian function.**\n"
   ]
  },
  {
   "cell_type": "code",
   "execution_count": 67,
   "id": "a3299f90",
   "metadata": {},
   "outputs": [
    {
     "name": "stdout",
     "output_type": "stream",
     "text": [
      "Prediction at x=5: -0.9608431504598123\n"
     ]
    },
    {
     "data": {
      "image/png": "[encoded data removed]",
      "text/plain": [
       "<Figure size 432x288 with 1 Axes>"
      ]
     },
     "metadata": {
      "needs_background": "light"
     },
     "output_type": "display_data"
    }
   ],
   "source": [
    "import numpy as np\n",
    "import matplotlib.pyplot as plt\n",
    "\n",
    "# Generate simulated data\n",
    "np.random.seed(0)\n",
    "X = np.linspace(0, 10, 100)\n",
    "y = np.sin(X) + np.random.normal(0, 0.3, 100)\n",
    "\n",
    "# Define the LWR function\n",
    "def LWR(x, X, y, tau):\n",
    "    # Calculate the weight for each data point based on its distance from x\n",
    "    weights = np.exp(-np.power(X - x, 2) / (2 * np.power(tau, 2)))\n",
    "    \n",
    "    # Fit a weighted linear regression model using the weights\n",
    "    X = np.vstack([X, np.ones(len(X))]).T\n",
    "    beta = np.linalg.inv(X.T @ (np.diag(weights) @ X)) @ (X.T @ (weights * y))\n",
    "    \n",
    "    # Return the prediction\n",
    "    return beta[0] * x + beta[1]\n",
    "\n",
    "# Predict the value at x=5 using a tau of 0.5\n",
    "prediction = LWR(5, X, y, 0.5)\n",
    "print(\"Prediction at x=5:\", prediction)\n",
    "\n",
    "# Plot the simulated data and the prediction\n",
    "plt.scatter(X, y, label='Simulated Data')\n",
    "plt.plot(5, prediction, 'ro', label='Prediction')\n",
    "plt.legend()\n",
    "plt.show()"
   ]
  },
  {
   "cell_type": "markdown",
   "id": "fabbd963",
   "metadata": {},
   "source": [
    "In this example, we first generate some simulated data using np.linspace and np.random.normal. We then define a function LWR that takes as input a value x to be predicted, the training data X and y, and a parameter **tau that controls the width of the Gaussian weighting function.**\n",
    "\n",
    "The function first calculates the weight for each data point based on its distance from x, using the Gaussian weighting function. It then fits a weighted linear regression model using the weights, and returns the prediction.\n",
    "\n",
    "Finally, we use the LWR function to make a prediction at x=5 using a tau of 0.5, and plot the simulated data and the prediction."
   ]
  },
  {
   "cell_type": "code",
   "execution_count": 72,
   "id": "7509d538",
   "metadata": {},
   "outputs": [
    {
     "name": "stdout",
     "output_type": "stream",
     "text": [
      "Prediction at x=5: 0.19624897244284506\n"
     ]
    },
    {
     "data": {
      "image/png": "[encoded data removed]",
      "text/plain": [
       "<Figure size 432x288 with 1 Axes>"
      ]
     },
     "metadata": {
      "needs_background": "light"
     },
     "output_type": "display_data"
    }
   ],
   "source": [
    "import numpy as np\n",
    "import matplotlib.pyplot as plt\n",
    "\n",
    "# Generate simulated data\n",
    "np.random.seed(0)\n",
    "X = np.linspace(0, 10, 100)\n",
    "y = np.sin(X) + np.random.normal(0, 0.3, 100)\n",
    "\n",
    "# Define the LWR function\n",
    "def LWR(x, X, y, tau, weighting_func):\n",
    "    # Calculate the weight for each data point based on its distance from x\n",
    "    weights = weighting_func(np.abs(X - x) / tau)\n",
    "    \n",
    "    # Fit a weighted linear regression model using the weights\n",
    "    X = np.vstack([X, np.ones(len(X))]).T\n",
    "    beta = np.linalg.inv(X.T @ (np.diag(weights) @ X)) @ (X.T @ (weights * y))\n",
    "    \n",
    "    # Return the prediction\n",
    "    return beta[0] * x + beta[1]\n",
    "\n",
    "# Define a different weighting function\n",
    "def triweight(d):\n",
    "    return np.power(1 - np.power(d, 2), 3)\n",
    "\n",
    "# Predict the value at x=5 using a tau of 0.5 and the triweight function\n",
    "prediction = LWR(5, X, y, 100, triweight)\n",
    "print(\"Prediction at x=5:\", prediction)\n",
    "\n",
    "# Plot the simulated data and the prediction\n",
    "plt.scatter(X, y, label='Simulated Data')\n",
    "plt.plot(5, prediction, 'ro', label='Prediction')\n",
    "plt.legend()\n",
    "plt.show()"
   ]
  },
  {
   "cell_type": "markdown",
   "id": "df92f0c4",
   "metadata": {},
   "source": [
    "The triweight function is a type of weighting function that is commonly used in locally weighted regression (LWR) algorithms. The triweight function assigns lower weights to data points that are further away from the point being predicted and higher weights to data points that are closer.\n",
    "\n",
    "**The triweight function is defined as:**\n",
    "w(d) = (1 - d^2)^3\n",
    "\n",
    "where d is the distance between the point being predicted and the data point.\n",
    "\n",
    "The triweight function has a similar shape to the Gaussian weighting function, but has sharper peaks and heavier tails, which makes it more suitable for modeling data with strong local structures."
   ]
  },
  {
   "cell_type": "markdown",
   "id": "2c49509b",
   "metadata": {},
   "source": [
    "# 5. Notes"
   ]
  },
  {
   "cell_type": "markdown",
   "id": "cf6b6f4d",
   "metadata": {},
   "source": [
    "1. **Parametric Methods:** The basic idea behind the parametric method is that there is a set of fixed parameters that uses to determine a probability model that is used in Machine Learning as well. Parametric methods are those methods for which we priory knows that the population is normal, or if not then we can easily approximate it using a normal distribution which is possible by invoking the Central Limit Theorem. Parameters for using the normal distribution is as follows: \n",
    "- Mean\n",
    "- Standard Deviation\n",
    "\n",
    "Eventually, the classification of a method to be parametric is completely depends on the presumptions that are made about a population. There are many parametric methods available some of them are:\n",
    "\n",
    "- Confidence interval used for – population mean along with known standard deviation.\n",
    "- The confidence interval is used for – population means along with the unknown standard deviation.\n",
    "- The confidence interval for population variance.\n",
    "- The confidence interval for the difference of two means, with unknown standard deviation.\n",
    "\n",
    "2. **Nonparametric Methods:** The basic idea behind the parametric method is no need to make any assumption of parameters for the given population or the population we are studying. In fact, the methods don’t depend on the population. Here there is no fixed set of parameters are available, and also there is no distribution (normal distribution, etc.) of any kind is available for use. This is also the reason that nonparametric methods are also referred to as distribution-free methods. Nowadays Non-parametric methods are gaining popularity and an impact of influence some reasons behind this fame is:\n",
    "\n",
    "The main reason is that there is no need to be mannered while using parametric methods.\n",
    "The second important reason is that we do not need to make more and more assumptions about the population given (or taken) on which we are working on.\n",
    "Most of the nonparametric methods available are very easy to apply and to understand also i.e. the complexity is very low.\n",
    "\n",
    "https://www.geeksforgeeks.org/difference-between-parametric-and-non-parametric-methods/"
   ]
  }
 ],
 "metadata": {
  "kernelspec": {
   "display_name": "Python 3 (ipykernel)",
   "language": "python",
   "name": "python3"
  },
  "language_info": {
   "codemirror_mode": {
    "name": "ipython",
    "version": 3
   },
   "file_extension": ".py",
   "mimetype": "text/x-python",
   "name": "python",
   "nbconvert_exporter": "python",
   "pygments_lexer": "ipython3",
   "version": "3.9.12"
  }
 },
 "nbformat": 4,
 "nbformat_minor": 5
}
